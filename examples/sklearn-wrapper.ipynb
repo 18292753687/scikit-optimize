{
 "cells": [
  {
   "cell_type": "markdown",
   "metadata": {
    "deletable": true,
    "editable": true
   },
   "source": [
    "# Scikit-learn hyperparameter search wrapper\n",
    "\n",
    "Iaroslav Shcherbatyi, June 2017."
   ]
  },
  {
   "cell_type": "markdown",
   "metadata": {
    "deletable": true,
    "editable": true
   },
   "source": [
    "## Introduction\n",
    "\n",
    "This example assumes basic familiarity with scikit - learn. \n",
    "\n",
    "Parameter search is important to get best performance with ML models. A standard approach using scikit-learn: `GridSearchCV`, which is exhausive enumeration, non - trivial to scale. A more scalable search approach, but does not take advantage of structure of model search: `RandomizedSearchCV`.\n",
    "\n",
    "Scikit-optimize provides a scalable drop in replacement for `GridSearchCV`, which utilizes BayesianOptimization in order to arrive at good solutions as soon as possible.\n",
    "\n",
    "\n",
    "## Minimal example\n",
    " \n",
    "A minimalistic example of optimizing weights of SVC is given below.\n"
   ]
  },
  {
   "cell_type": "code",
   "execution_count": 16,
   "metadata": {
    "collapsed": false,
    "deletable": true,
    "editable": true
   },
   "outputs": [
    {
     "name": "stdout",
     "output_type": "stream",
     "text": [
      "0.973684210526\n"
     ]
    }
   ],
   "source": [
    "from skopt.space import Real, Categorical, Integer\n",
    "from skopt.wrappers import SkoptSearchCV\n",
    "\n",
    "from sklearn.datasets import load_iris\n",
    "from sklearn.svm import SVC\n",
    "from sklearn.model_selection import train_test_split\n",
    "\n",
    "X, y = load_iris(True)\n",
    "X_train, X_test, y_train, y_test = train_test_split(X, y, train_size=0.75, random_state=0)\n",
    "\n",
    "opt = SkoptSearchCV(\n",
    "    SVC(),\n",
    "    [{\n",
    "        'C': Real(1e-6, 1e+6, prior='log-uniform'),\n",
    "        'gamma': Real(1e-6, 1e+1, prior='log-uniform'),\n",
    "        'degree': Integer(1,8),\n",
    "        'kernel': Categorical(['linear', 'poly', 'rbf']),\n",
    "    }],\n",
    "    n_jobs=1, n_iter=32,\n",
    ")\n",
    "\n",
    "opt.fit(X_train, y_train)\n",
    "print(opt.score(X_test, y_test))"
   ]
  },
  {
   "cell_type": "markdown",
   "metadata": {},
   "source": [
    "## Advanced example \n",
    "\n",
    "In many practical cases one wants to apply multiple predictive model classes, where different number of evaluations is expected to yields satisfactory results. An example of this using `Pipeline` class is given below. "
   ]
  },
  {
   "cell_type": "code",
   "execution_count": 17,
   "metadata": {
    "collapsed": false
   },
   "outputs": [
    {
     "name": "stdout",
     "output_type": "stream",
     "text": [
      "0.973684210526\n"
     ]
    }
   ],
   "source": [
    "from skopt.space import Real, Categorical, Integer\n",
    "\n",
    "from sklearn.datasets import load_iris\n",
    "from sklearn.svm import SVC, LinearSVC\n",
    "from sklearn.tree import DecisionTreeClassifier\n",
    "from sklearn.pipeline import Pipeline\n",
    "from sklearn.model_selection import train_test_split\n",
    "\n",
    "X, y = load_iris(True)\n",
    "X_train, X_test, y_train, y_test = train_test_split(X, y, train_size=0.75, random_state=0)\n",
    "\n",
    "pipe = Pipeline([\n",
    "    ('model', SVC())\n",
    "])\n",
    "\n",
    "lin_search = {\n",
    "    'model': Categorical([LinearSVC()]),\n",
    "    'model__C': Real(1e-6, 1e+6, prior='log-uniform'),\n",
    "}\n",
    "\n",
    "svc_search = {\n",
    "    'model': Categorical([SVC()]),\n",
    "    'model__C': Real(1e-6, 1e+6, prior='log-uniform'),\n",
    "    'model__gamma': Real(1e-6, 1e+1, prior='log-uniform'),\n",
    "    'model__degree': Integer(1,8),\n",
    "    'model__kernel': Categorical(['linear', 'poly', 'rbf']),\n",
    "}\n",
    "\n",
    "dtc_search = {\n",
    "    'model': Categorical([DecisionTreeClassifier()]),\n",
    "    'model__max_depth': Integer(1,32),\n",
    "    'model__min_samples_split': Real(1e-3, 1.0, prior='log-uniform'),\n",
    "}\n",
    "\n",
    "opt = SkoptSearchCV(\n",
    "    pipe,\n",
    "    [(lin_search, 16), (dtc_search, 24), (svc_search, 32)],\n",
    ")\n",
    "\n",
    "opt.fit(X_train, y_train)\n",
    "print(opt.score(X_test, y_test))"
   ]
  },
  {
   "cell_type": "markdown",
   "metadata": {},
   "source": [
    "## Iterative search utilizing `step` function\n",
    "\n",
    "The class also provides a  `step` function which allows to have custom stopping criterions and to set up recovery from failures more easily. \n",
    "\n",
    "A minimalistic example is shown below. "
   ]
  },
  {
   "cell_type": "code",
   "execution_count": 15,
   "metadata": {
    "collapsed": false,
    "scrolled": true
   },
   "outputs": [
    {
     "name": "stdout",
     "output_type": "stream",
     "text": [
      "0 0.236842105263\n",
      "1 0.868421052632\n",
      "2 0.973684210526\n",
      "3 0.973684210526\n",
      "4 0.973684210526\n",
      "5 0.973684210526\n",
      "6 0.973684210526\n",
      "7 0.973684210526\n",
      "8 0.973684210526\n",
      "9 0.973684210526\n",
      "10 0.973684210526\n",
      "11 0.973684210526\n",
      "12 0.973684210526\n",
      "13 0.973684210526\n",
      "14 0.973684210526\n",
      "15 0.973684210526\n",
      "16 0.973684210526\n",
      "17 0.973684210526\n",
      "18 0.973684210526\n",
      "19 0.973684210526\n",
      "20 0.973684210526\n",
      "21 0.973684210526\n",
      "22 0.973684210526\n",
      "23 0.973684210526\n",
      "24 0.973684210526\n",
      "25 0.973684210526\n",
      "26 0.973684210526\n",
      "27 0.973684210526\n",
      "28 0.973684210526\n",
      "29 0.973684210526\n",
      "30 0.973684210526\n",
      "31 0.973684210526\n"
     ]
    }
   ],
   "source": [
    "from skopt.space import Real, Categorical, Integer\n",
    "from skopt.wrappers import SkoptSearchCV\n",
    "\n",
    "from sklearn.datasets import load_iris\n",
    "from sklearn.svm import SVC\n",
    "from sklearn.model_selection import train_test_split\n",
    "\n",
    "X, y = load_iris(True)\n",
    "X_train, X_test, y_train, y_test = train_test_split(X, y, train_size=0.75, random_state=0)\n",
    "\n",
    "search_space = {\n",
    "    'C': Real(1e-6, 1e+6, prior='log-uniform'),\n",
    "    'gamma': Real(1e-6, 1e+1, prior='log-uniform'),\n",
    "    'degree': Integer(1,8),\n",
    "    'kernel': Categorical(['linear', 'poly', 'rbf']),\n",
    "}\n",
    "\n",
    "opt = SkoptSearchCV(\n",
    "    SVC(),\n",
    "    None\n",
    ")\n",
    "\n",
    "for i in range(32):\n",
    "    opt.step(X_train, y_train, search_space)\n",
    "    # save the model and use custom stopping criterion here\n",
    "    # ...\n",
    "    print(i, opt.score(X_test, y_test))"
   ]
  }
 ],
 "metadata": {
  "kernelspec": {
   "display_name": "Python 3",
   "language": "python",
   "name": "python3"
  },
  "language_info": {
   "codemirror_mode": {
    "name": "ipython",
    "version": 3
   },
   "file_extension": ".py",
   "mimetype": "text/x-python",
   "name": "python",
   "nbconvert_exporter": "python",
   "pygments_lexer": "ipython3",
   "version": "3.5.2"
  }
 },
 "nbformat": 4,
 "nbformat_minor": 0
}
