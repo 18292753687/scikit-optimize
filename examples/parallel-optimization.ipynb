{
 "cells": [
  {
   "cell_type": "markdown",
   "metadata": {},
   "source": [
    "# Parallel optimization\n",
    "\n",
    "Iaroslav Shcherbatyi, May 2017."
   ]
  },
  {
   "cell_type": "code",
   "execution_count": 29,
   "metadata": {
    "collapsed": false
   },
   "outputs": [
    {
     "data": {
      "text/plain": [
       "<matplotlib.figure.Figure at 0x7f363f37cfd0>"
      ]
     },
     "execution_count": 0,
     "metadata": {},
     "output_type": "execute_result"
    }
   ],
   "source": [
    "import numpy as np\n",
    "np.random.seed(0)\n",
    "\n",
    "%matplotlib inline\n",
    "import matplotlib.pyplot as plt\n",
    "plt.set_cmap(\"viridis\")"
   ]
  },
  {
   "cell_type": "markdown",
   "metadata": {},
   "source": [
    "## Problem statement\n",
    "\n",
    "In many practical cases, you can run evaluations of your objective in parallel, which you would be \n",
    "great to leverage in order to speed up the black box optimization. \n",
    " \n",
    "Think about it like this: if you want to find a perfect mix of ingredients for a perfect cookie, you would rather \n",
    "bake a batch of cookies with different ingredients rather then just a single cookie at a time. \n",
    "You can expect that the former is faster, as more cookies(points) are evaluated per unit of time. \n",
    "\n",
    "## Scikit-optimize approach to parallelization \n",
    "\n",
    "For parallel optimization, please use the \"ask and tell\" interface of scikit-optimize implemented as the `skopt.Optimizer` class.\n",
    "You can provide the `n_points` property to the `ask` method of this class, which will return n points for you to\n",
    "evaluate in parallel. Consider a simple example below. "
   ]
  },
  {
   "cell_type": "code",
   "execution_count": 30,
   "metadata": {},
   "outputs": [
    {
     "name": "stdout",
     "output_type": "stream",
     "text": [
      "[[0.29288102356394896, 1.2911361982345175, 0.61658025642986392], [0.26929909798138185, -0.45807120396657153, 0.87536467839993737]]\n"
     ]
    }
   ],
   "source": [
    "from sklearn.externals.joblib import Parallel, delayed\n",
    "from skopt.space import Real\n",
    "from skopt.learning import ExtraTreesRegressor\n",
    "from skopt import Optimizer\n",
    "\n",
    "# just a normal optimizer instantiation \n",
    "optimizer = Optimizer(\n",
    "    base_estimator=ExtraTreesRegressor(),\n",
    "    dimensions=[Real(-3.0, 3.0) for i in range(3)],\n",
    "    acq_optimizer='sampling'\n",
    ")\n",
    "\n",
    "x = optimizer.ask(n_points=2, parallel_strategy='cl_min')\n",
    "\n",
    "print(x)"
   ]
  },
  {
   "cell_type": "markdown",
   "metadata": {},
   "source": [
    "With `n_points=2`, the result of ask method is a list of two points for you to evaluate. You can use for example the joblib package to evaluate these points in parallel like so:\n",
    "\n",
    "`Parallel()(delayed(objective)(v) for v in x)`\n",
    "\n",
    "You can also specify different strategies that skopt can use to generate n points to evaluate in parallel. Currently the \"minimum constant liar\" strategy is used; You can see how it works by following the link at the bottom of this notebook. You can see the list of supported strategies in the definition of the `ask` method. \n",
    "\n",
    "FYI: points in the output of ask will always be different, and if they are not, please report this as an issue. Notice also that if you set `n_points=1`, then ask will also return a list, but with a single point to evaluate.\n",
    "\n",
    "Lets compare a sequential mode of optimization with `n_points=1` to a parallel mode. For this, lets write a function that plots results of optimization at every sequential step:\n"
   ]
  },
  {
   "cell_type": "code",
   "execution_count": 34,
   "metadata": {
    "collapsed": true
   },
   "outputs": [],
   "source": [
    "# objective function to minimze\n",
    "def objective(x):\n",
    "    return np.sum(np.array(x) ** 2)\n",
    "\n",
    "def plot_optimization(n_jobs):\n",
    "    optimizer = Optimizer(\n",
    "        base_estimator=ExtraTreesRegressor(),\n",
    "        dimensions=[Real(-3.0, 3.0) for i in range(3)],\n",
    "        acq_optimizer='sampling'\n",
    "    )\n",
    "\n",
    "    # configure number of workers to be used in parallel, and overall # of computations\n",
    "    n_steps, Y = 20, []\n",
    "\n",
    "    for i in range(n_steps):\n",
    "        x = optimizer.ask(n_points=n_jobs)\n",
    "        # evaluate n_points in parallel\n",
    "        y = Parallel()(delayed(objective)(v) for v in x)\n",
    "        # tell points and corresponding objectives to the optimizer\n",
    "        optimizer.tell(x, y)\n",
    "        # keep objectives history\n",
    "        Y.append(min(optimizer.yi))\n",
    "    \n",
    "    # plot results of optimization \n",
    "    plt.plot(range(len(Y)), Y, label=\"points=\" + str(n_jobs))"
   ]
  },
  {
   "cell_type": "markdown",
   "metadata": {},
   "source": [
    "Now lets use the function and see how sequential mode performs against the parallel mode:"
   ]
  },
  {
   "cell_type": "code",
   "execution_count": 32,
   "metadata": {
    "collapsed": false
   },
   "outputs": [
    {
     "data": {
      "image/png": "[encoded data removed]",
      "text/plain": [
       "<matplotlib.figure.Figure at 0x7f363fe4db50>"
      ]
     },
     "metadata": {},
     "output_type": "display_data"
    }
   ],
   "source": [
    "plot_optimization(1)\n",
    "plot_optimization(4)\n",
    "plt.xlabel(\"# of sequential step\")\n",
    "plt.ylabel(\"Min. obj. value found\")\n",
    "plt.legend()\n",
    "plt.show()"
   ]
  },
  {
   "cell_type": "markdown",
   "metadata": {},
   "source": [
    "You can see that parallel computation outperforms the sequential computation. Keep in mind that in some cases sequential optimization can outperform parallel initially if it gets a better initialization. You can run this example with different seeds to see more curves.\n",
    "\n",
    "For further details, refer to [https://hal.archives-ouvertes.fr/hal-00732512/document](https://hal.archives-ouvertes.fr/hal-00732512/document) ."
   ]
  }
 ],
 "metadata": {
  "kernelspec": {
   "display_name": "Python 3",
   "language": "python",
   "name": "python3"
  },
  "language_info": {
   "codemirror_mode": {
    "name": "ipython",
    "version": 3.0
   },
   "file_extension": ".py",
   "mimetype": "text/x-python",
   "name": "python",
   "nbconvert_exporter": "python",
   "pygments_lexer": "ipython3",
   "version": "3.5.2"
  }
 },
 "nbformat": 4,
 "nbformat_minor": 0
}