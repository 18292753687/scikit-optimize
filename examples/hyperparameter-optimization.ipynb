{
 "cells": [
  {
   "cell_type": "markdown",
   "metadata": {},
   "source": [
    "# Tuning a scikit-learn estimator with `skopt`\n",
    "\n",
    "Gilles Louppe, July 2016."
   ]
  },
  {
   "cell_type": "code",
   "execution_count": 1,
   "metadata": {
    "collapsed": true
   },
   "outputs": [],
   "source": [
    "%matplotlib inline\n",
    "import numpy as np\n",
    "import matplotlib.pyplot as plt\n",
    "plt.rcParams[\"figure.figsize\"] = (10, 6)"
   ]
  },
  {
   "cell_type": "markdown",
   "metadata": {},
   "source": [
    "## Problem statement\n",
    "\n",
    "Tuning the hyper-parameters of a machine learning model is often carried out using an exhaustive exploration of (a subset of) the space all hyper-parameter configurations (e.g., using `sklearn.model_selection.GridSearchCV`), which often results in a very time consuming operation. \n",
    "\n",
    "In this notebook, we illustrate how `skopt` can be used to tune hyper-parameters using sequential model-based optimisation, hopefully resulting in equivalent or better solutions, but within less evaluations."
   ]
  },
  {
   "cell_type": "markdown",
   "metadata": {},
   "source": [
    "## Objective "
   ]
  },
  {
   "cell_type": "markdown",
   "metadata": {},
   "source": [
    "The first step is to define the objective function we want to minimize, in this case the cross-validation mean absolute error of a gradient boosting regressor over the Boston dataset, as a function of its hyper-parameters:"
   ]
  },
  {
   "cell_type": "code",
   "execution_count": 2,
   "metadata": {
    "collapsed": false
   },
   "outputs": [],
   "source": [
    "from sklearn.datasets import load_boston\n",
    "from sklearn.ensemble import GradientBoostingRegressor\n",
    "from sklearn.model_selection import cross_val_score\n",
    "\n",
    "boston = load_boston()\n",
    "X, y = boston.data, boston.target\n",
    "reg = GradientBoostingRegressor(n_estimators=50, random_state=0)\n",
    "\n",
    "def objective(params):\n",
    "    max_depth, learning_rate, max_features, min_samples_split, min_samples_leaf = params\n",
    "\n",
    "    reg.set_params(max_depth=max_depth,\n",
    "                   learning_rate=learning_rate,\n",
    "                   max_features=max_features,\n",
    "                   min_samples_split=min_samples_split, \n",
    "                   min_samples_leaf=min_samples_leaf)\n",
    "\n",
    "    return -np.mean(cross_val_score(reg, X, y, cv=5, n_jobs=-1, scoring=\"mean_absolute_error\"))"
   ]
  },
  {
   "cell_type": "markdown",
   "metadata": {},
   "source": [
    "Next, we need to define the bounds of the dimensions of the search space we want to explore, and (optionally) the starting point:"
   ]
  },
  {
   "cell_type": "code",
   "execution_count": 3,
   "metadata": {
    "collapsed": false
   },
   "outputs": [],
   "source": [
    "space  = [(1, 5),                           # max_depth\n",
    "          (10**-5, 10**-1, \"log-uniform\"),  # learning_rate\n",
    "          (1, X.shape[1]),                  # max_features\n",
    "          (2, 30),                          # min_samples_split\n",
    "          (1, 30)]                          # min_samples_leaf\n",
    "\n",
    "x0 = [3, 0.01, 6, 2, 1]"
   ]
  },
  {
   "cell_type": "markdown",
   "metadata": {},
   "source": [
    "## Optimize all the things!"
   ]
  },
  {
   "cell_type": "markdown",
   "metadata": {},
   "source": [
    "With these two pieces, we are now ready for sequential model-based optimisation. Here we compare gaussian process-based optimisation versus forest-based optimisation."
   ]
  },
  {
   "cell_type": "code",
   "execution_count": 4,
   "metadata": {
    "collapsed": false
   },
   "outputs": [
    {
     "data": {
      "text/plain": [
       "'Best score=2.8879'"
      ]
     },
     "execution_count": 4,
     "metadata": {},
     "output_type": "execute_result"
    }
   ],
   "source": [
    "from skopt import gp_minimize\n",
    "res_gp = gp_minimize(objective, space, x0=x0, n_calls=50, random_state=0)\n",
    "\n",
    "\"Best score=%.4f\" % res_gp.fun"
   ]
  },
  {
   "cell_type": "code",
   "execution_count": 5,
   "metadata": {
    "collapsed": false
   },
   "outputs": [
    {
     "name": "stdout",
     "output_type": "stream",
     "text": [
      "Best parameters:\n",
      "- max_depth=5\n",
      "- learning_rate=0.099611\n",
      "- max_features=8\n",
      "- min_samples_split=15\n",
      "- min_samples_leaf=5\n"
     ]
    }
   ],
   "source": [
    "print(\"\"\"Best parameters:\n",
    "- max_depth=%d\n",
    "- learning_rate=%.6f\n",
    "- max_features=%d\n",
    "- min_samples_split=%d\n",
    "- min_samples_leaf=%d\"\"\" % (res_gp.x[0], res_gp.x[1], \n",
    "                            res_gp.x[2], res_gp.x[3], \n",
    "                            res_gp.x[4]))"
   ]
  },
  {
   "cell_type": "code",
   "execution_count": 6,
   "metadata": {
    "collapsed": false
   },
   "outputs": [
    {
     "data": {
      "text/plain": [
       "'Best score=2.9195'"
      ]
     },
     "execution_count": 6,
     "metadata": {},
     "output_type": "execute_result"
    }
   ],
   "source": [
    "from skopt import forest_minimize\n",
    "res_forest = forest_minimize(objective, space, x0=x0, n_calls=50, random_state=0)\n",
    "\n",
    "\"Best score=%.4f\" % res_forest.fun"
   ]
  },
  {
   "cell_type": "code",
   "execution_count": 7,
   "metadata": {
    "collapsed": false
   },
   "outputs": [
    {
     "name": "stdout",
     "output_type": "stream",
     "text": [
      "Best parameters:\n",
      "- max_depth=4\n",
      "- learning_rate=0.089097\n",
      "- max_features=8\n",
      "- min_samples_split=6\n",
      "- min_samples_leaf=3\n"
     ]
    }
   ],
   "source": [
    "print(\"\"\"Best parameters:\n",
    "- max_depth=%d\n",
    "- learning_rate=%.6f\n",
    "- max_features=%d\n",
    "- min_samples_split=%d\n",
    "- min_samples_leaf=%d\"\"\" % (res_forest.x[0], res_forest.x[1], \n",
    "                            res_forest.x[2], res_forest.x[3], \n",
    "                            res_forest.x[4]))"
   ]
  },
  {
   "cell_type": "markdown",
   "metadata": {},
   "source": [
    "As a baseline, let us also compare with random search in the space of hyper-parameters, which is equivalent to `sklearn.model_selection.RandomizedSearchCV`."
   ]
  },
  {
   "cell_type": "code",
   "execution_count": 8,
   "metadata": {
    "collapsed": false
   },
   "outputs": [
    {
     "data": {
      "text/plain": [
       "'Best score=3.0592'"
      ]
     },
     "execution_count": 8,
     "metadata": {},
     "output_type": "execute_result"
    }
   ],
   "source": [
    "from skopt import dummy_minimize\n",
    "res_dummy = dummy_minimize(objective, space, x0=x0, n_calls=50, random_state=0)\n",
    "\n",
    "\"Best score=%.4f\" % res_dummy.fun"
   ]
  },
  {
   "cell_type": "code",
   "execution_count": 9,
   "metadata": {
    "collapsed": false
   },
   "outputs": [
    {
     "name": "stdout",
     "output_type": "stream",
     "text": [
      "Best parameters:\n",
      "- max_depth=5\n",
      "- learning_rate=0.0596\n",
      "- max_features=10\n",
      "- min_samples_split=23\n",
      "- min_samples_leaf=1\n"
     ]
    }
   ],
   "source": [
    "print(\"\"\"Best parameters:\n",
    "- max_depth=%d\n",
    "- learning_rate=%.4f\n",
    "- max_features=%d\n",
    "- min_samples_split=%d\n",
    "- min_samples_leaf=%d\"\"\" % (res_dummy.x[0], res_dummy.x[1], \n",
    "                            res_dummy.x[2], res_dummy.x[3], \n",
    "                            res_dummy.x[4]))"
   ]
  },
  {
   "cell_type": "markdown",
   "metadata": {},
   "source": [
    "## Convergence plot"
   ]
  },
  {
   "cell_type": "code",
   "execution_count": 10,
   "metadata": {
    "collapsed": false
   },
   "outputs": [
    {
     "data": {
      "text/plain": [
       "<matplotlib.axes._subplots.AxesSubplot at 0x11276dd30>"
      ]
     },
     "execution_count": 10,
     "metadata": {},
     "output_type": "execute_result"
    },
    {
     "data": {
      "image/png": "[encoded data removed]",
      "text/plain": [
       "<matplotlib.figure.Figure at 0x10d1ff4a8>"
      ]
     },
     "metadata": {},
     "output_type": "display_data"
    }
   ],
   "source": [
    "from skopt.plots import plot_convergence\n",
    "plot_convergence((\"gp_optimize\", res_gp),\n",
    "                 (\"forest_optimize\", res_forest),\n",
    "                 (\"dummy_optimize\", res_dummy))"
   ]
  },
  {
   "cell_type": "markdown",
   "metadata": {},
   "source": [
    "## Part 2: Tuning a scikit-learn pipeline with `skopt`\n",
    "\n",
    "Katie Malone, August 2016"
   ]
  },
  {
   "cell_type": "markdown",
   "metadata": {},
   "source": [
    "### Introduction\n",
    "\n",
    "Scikit-learn objects (transformers, estimators) are often not used singly, but instead chained together into a <a href=\"http://scikit-learn.org/stable/modules/generated/sklearn.pipeline.Pipeline.html\">pipeline</a>.  When that happens, there can be several different sets of hyperparameters to examine, one for each object.  In the same way that `GridSearchCV` can be applied to a pipeline to tune the hyperparameters of several objects at once, we can do a more efficient search (this example uses GPs) over more than one scikit-learn object.  \n",
    "\n",
    "We'll do that here now.  A common method for reducing dimensionality is to preprocess with <a href=\"http://scikit-learn.org/stable/modules/generated/sklearn.decomposition.PCA.html\">principal components analysis</a>, or PCA.  A free parameter of PCA is how many components to use; now we'll optimize over this parameter as well as the parameters of the gradient boosted classifier.  It's not guaranteed that using PCA will give us better results than the classifier all by itself, and there are other problems where PCA might make more sense than it does here, but a reasonable person might want to try it out anyway.  Here's how you can do that."
   ]
  },
  {
   "cell_type": "code",
   "execution_count": 11,
   "metadata": {
    "collapsed": true
   },
   "outputs": [],
   "source": [
    "from sklearn.decomposition import PCA\n",
    "from sklearn.pipeline import Pipeline\n",
    "\n",
    "pca = PCA()\n",
    "reg_pipe = GradientBoostingRegressor(n_estimators=50, random_state=0)\n",
    "pipe = Pipeline([('pca', pca), ('reg', reg_pipe)])"
   ]
  },
  {
   "cell_type": "markdown",
   "metadata": {},
   "source": [
    "### Defining the search space\n",
    "\n",
    "Our parameter space has dimensions for the n_components parameter of PCA, as well as several parameters of the decision tree.\n",
    "Optionally, we can also define a starting point for the search."
   ]
  },
  {
   "cell_type": "code",
   "execution_count": 12,
   "metadata": {
    "collapsed": true
   },
   "outputs": [],
   "source": [
    "pipe_space  = [(1,13),                           # n_components of PCA\n",
    "          (1, 5),                           # max_depth of GBR\n",
    "          (10**-5, 10**-1, \"log-uniform\"),  # learning_rate of GBR\n",
    "          (1, 20),                          # max_features of GBR\n",
    "          (2, 30),                          # min_samples_split of GBR\n",
    "          (1, 30)]                          # min_samples_leaf of GBR\n",
    "\n",
    "\n",
    "pipe_x0 = [5].extend(x0)  # optional starting point"
   ]
  },
  {
   "cell_type": "markdown",
   "metadata": {},
   "source": [
    "The updated objective function (which I've named `objective_pipe`) is very similar to the objective function that we've had before, except now there are two places where parameters get set--we're changing the parameters of both `pca` and `reg` at the same time."
   ]
  },
  {
   "cell_type": "code",
   "execution_count": 13,
   "metadata": {
    "collapsed": false
   },
   "outputs": [],
   "source": [
    "def objective_pipe(params):\n",
    "    n_components, max_depth,\\\n",
    "    learning_rate, max_features,\\\n",
    "    min_samples_split, min_samples_leaf = params\n",
    "    \n",
    "    # set PCA n_components parameter\n",
    "    pipe.set_params(pca__n_components=n_components)\n",
    "\n",
    "    # set decision tree classifier parameters\n",
    "    pipe.set_params(reg__max_depth=max_depth,\n",
    "                   reg__learning_rate=learning_rate,\n",
    "                   reg__max_features=n_components,\n",
    "                   reg__min_samples_split=min_samples_split,\n",
    "                   reg__min_samples_leaf=min_samples_leaf)\n",
    "\n",
    "    error = -np.mean(cross_val_score(pipe, X, y, cv=5, n_jobs=-1, scoring=\"mean_absolute_error\"))\n",
    "    return error"
   ]
  },
  {
   "cell_type": "markdown",
   "metadata": {},
   "source": [
    "### Optimize all the things, again!\n",
    "\n",
    "Again, things are analagous with the example above, except we're running with the pipeline-specific objective function and parameter options."
   ]
  },
  {
   "cell_type": "code",
   "execution_count": 14,
   "metadata": {
    "collapsed": false
   },
   "outputs": [
    {
     "name": "stdout",
     "output_type": "stream",
     "text": [
      "Best score=3.8677\n",
      "Best parameters:\n",
      "    - n_components=11\n",
      "    - max_depth=3\n",
      "    - learning_rate=0.099074\n",
      "    - max_features=14\n",
      "    - min_samples_split=6\n",
      "    - min_samples_leaf=24\n"
     ]
    }
   ],
   "source": [
    "import warnings\n",
    "warnings.filterwarnings(\"ignore\") # this minimize call issues a lot of warnings--quiet them\n",
    "                                  # associated scikit-learn issue #6746\n",
    "\n",
    "pipe_res_gp = gp_minimize(objective_pipe, pipe_space, x0=pipe_x0, n_calls=50, random_state=0)\n",
    "print(\"Best score=%.4f\" % pipe_res_gp.fun)\n",
    "print(\"\"\"Best parameters:\n",
    "    - n_components=%d\n",
    "    - max_depth=%d\n",
    "    - learning_rate=%.6f\n",
    "    - max_features=%d\n",
    "    - min_samples_split=%d\n",
    "    - min_samples_leaf=%d\"\"\" % (pipe_res_gp.x[0], pipe_res_gp.x[1],\n",
    "                                pipe_res_gp.x[2], pipe_res_gp.x[3],\n",
    "                                pipe_res_gp.x[4], pipe_res_gp.x[5]))"
   ]
  },
  {
   "cell_type": "markdown",
   "metadata": {},
   "source": [
    "We've started with a gaussian process algorithm; now add dummy and forest minimization functions to get a survey of the field."
   ]
  },
  {
   "cell_type": "code",
   "execution_count": 15,
   "metadata": {
    "collapsed": false
   },
   "outputs": [
    {
     "name": "stdout",
     "output_type": "stream",
     "text": [
      "Best score=4.3505\n",
      "Best parameters:\n",
      "    - n_components=6\n",
      "    - max_depth=4\n",
      "    - learning_rate=0.077229\n",
      "    - max_features=17\n",
      "    - min_samples_split=20\n",
      "    - min_samples_leaf=13\n"
     ]
    }
   ],
   "source": [
    "pipe_res_dummy = dummy_minimize(objective_pipe, pipe_space, x0=pipe_x0, n_calls=50, random_state=0)\n",
    "print(\"Best score=%.4f\" % pipe_res_dummy.fun)\n",
    "print(\"\"\"Best parameters:\n",
    "    - n_components=%d\n",
    "    - max_depth=%d\n",
    "    - learning_rate=%.6f\n",
    "    - max_features=%d\n",
    "    - min_samples_split=%d\n",
    "    - min_samples_leaf=%d\"\"\" % (pipe_res_dummy.x[0], pipe_res_dummy.x[1],\n",
    "                                pipe_res_dummy.x[2], pipe_res_dummy.x[3],\n",
    "                                pipe_res_dummy.x[4], pipe_res_dummy.x[5]))"
   ]
  },
  {
   "cell_type": "code",
   "execution_count": 16,
   "metadata": {
    "collapsed": false
   },
   "outputs": [
    {
     "name": "stdout",
     "output_type": "stream",
     "text": [
      "Best score=3.8386\n",
      "Best parameters:\n",
      "    - n_components=11\n",
      "    - max_depth=3\n",
      "    - learning_rate=0.098992\n",
      "    - max_features=13\n",
      "    - min_samples_split=5\n",
      "    - min_samples_leaf=2\n"
     ]
    }
   ],
   "source": [
    "from skopt import forest_minimize\n",
    "pipe_res_forest = forest_minimize(objective_pipe, pipe_space, x0=pipe_x0, n_calls=50, random_state=0)\n",
    "print(\"Best score=%.4f\" % pipe_res_forest.fun)\n",
    "print(\"\"\"Best parameters:\n",
    "    - n_components=%d\n",
    "    - max_depth=%d\n",
    "    - learning_rate=%.6f\n",
    "    - max_features=%d\n",
    "    - min_samples_split=%d\n",
    "    - min_samples_leaf=%d\"\"\" % (pipe_res_forest.x[0], pipe_res_forest.x[1],\n",
    "                                pipe_res_forest.x[2], pipe_res_forest.x[3],\n",
    "                                pipe_res_forest.x[4], pipe_res_forest.x[5]))"
   ]
  },
  {
   "cell_type": "code",
   "execution_count": 17,
   "metadata": {
    "collapsed": false
   },
   "outputs": [
    {
     "data": {
      "text/plain": [
       "<matplotlib.axes._subplots.AxesSubplot at 0x1138a4f98>"
      ]
     },
     "execution_count": 17,
     "metadata": {},
     "output_type": "execute_result"
    },
    {
     "data": {
      "image/png": "[encoded data removed]",
      "text/plain": [
       "<matplotlib.figure.Figure at 0x11379ce48>"
      ]
     },
     "metadata": {},
     "output_type": "display_data"
    }
   ],
   "source": [
    "plot_convergence((\"gp_optimize\", res_gp),\n",
    "                 (\"forest_optimize\", res_forest),\n",
    "                 (\"dummy_optimize\", res_dummy),\n",
    "                 (\"gp_optimize_w_pca\", pipe_res_gp),\n",
    "                 (\"forest_optimize_w_pca\", pipe_res_forest),\n",
    "                 (\"dummy_optimize_w_pca\", pipe_res_dummy))"
   ]
  },
  {
   "cell_type": "markdown",
   "metadata": {
    "collapsed": true
   },
   "source": [
    "So, interestingly, our PCA pipelines seem to do much worse than the classifiers do all by themselves.  As we said above, there are other problems where PCA might make more sense than it does here.  But now, instead of that being an argument that you'd make based on theoretical reasons, you've actually tried it both ways and found empirically that PCA is probably not something you want to use here."
   ]
  }
 ],
 "metadata": {
  "kernelspec": {
   "display_name": "Python 3",
   "language": "python",
   "name": "python3"
  },
  "language_info": {
   "codemirror_mode": {
    "name": "ipython",
    "version": 3
   },
   "file_extension": ".py",
   "mimetype": "text/x-python",
   "name": "python",
   "nbconvert_exporter": "python",
   "pygments_lexer": "ipython3",
   "version": "3.4.5"
  },
  "widgets": {
   "state": {},
   "version": "1.1.2"
  }
 },
 "nbformat": 4,
 "nbformat_minor": 0
}
