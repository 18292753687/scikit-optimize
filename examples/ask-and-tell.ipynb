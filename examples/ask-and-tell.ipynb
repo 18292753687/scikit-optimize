{
 "cells": [
  {
   "cell_type": "markdown",
   "metadata": {},
   "source": [
    "# Async optimization Loop\n",
    "\n",
    "Tim Head, February 2017."
   ]
  },
  {
   "cell_type": "code",
   "execution_count": 1,
   "metadata": {
    "collapsed": false
   },
   "outputs": [
    {
     "data": {
      "text/plain": [
       "<matplotlib.figure.Figure at 0x103c522e8>"
      ]
     },
     "metadata": {},
     "output_type": "display_data"
    }
   ],
   "source": [
    "import numpy as np\n",
    "np.random.seed(123)\n",
    "\n",
    "%matplotlib inline\n",
    "import matplotlib.pyplot as plt\n",
    "plt.set_cmap(\"viridis\")"
   ]
  },
  {
   "cell_type": "markdown",
   "metadata": {},
   "source": [
    "Bayesian optimization is used to tune parameters for walking robots or other experiments\n",
    "that are not a simple (expensive) function call.\n",
    "\n",
    "They often follow a pattern a bit like this:\n",
    "1. ask for a new set of parameters\n",
    "1. walk to the experiment and program in the new parameters\n",
    "1. observe the outcome of running the experiment\n",
    "1. walk back to your laptop and tell the optimizer about the outcome\n",
    "1. go to step 1\n",
    "\n",
    "A setup like this is difficult to implement with the `*_minimize()` function interface.\n",
    "This is why `scikit-optimize` has a ask-and-tell interface that you can use when you want\n",
    "to control the execution of the optimization loop.\n",
    "\n",
    "This notenook demonstrates how to use the ask and tell interface.\n",
    "\n",
    "\n",
    "## The Setup\n",
    "\n",
    "We will use a simple 1D problem to illustrate the API. This is a\n",
    "little bit artificial as you normally would not use the ask-and-tell\n",
    "interface if you had a function you can call to evaluate the objective."
   ]
  },
  {
   "cell_type": "code",
   "execution_count": 2,
   "metadata": {
    "collapsed": true
   },
   "outputs": [],
   "source": [
    "from skopt.learning import ExtraTreesRegressor\n",
    "from skopt import Optimizer\n",
    "\n",
    "noise_level = 0.1\n",
    "\n",
    "# Our 1D toy problem, this is the function we are trying to\n",
    "# minimize\n",
    "def objective(x, noise_level=noise_level):\n",
    "    return np.sin(5 * x[0]) * (1 - np.tanh(x[0] ** 2)) + np.random.randn() * noise_level"
   ]
  },
  {
   "cell_type": "markdown",
   "metadata": {},
   "source": [
    "Here a quick plot to visualize what the function looks like:"
   ]
  },
  {
   "cell_type": "code",
   "execution_count": 3,
   "metadata": {
    "collapsed": false
   },
   "outputs": [
    {
     "data": {
      "image/png": "[encoded data removed]",
      "text/plain": [
       "<matplotlib.figure.Figure at 0x109dcc898>"
      ]
     },
     "metadata": {},
     "output_type": "display_data"
    }
   ],
   "source": [
    "# Plot f(x) + contours\n",
    "x = np.linspace(-2, 2, 400).reshape(-1, 1)\n",
    "fx = np.array([objective(x_i, noise_level=0.0) for x_i in x])\n",
    "plt.plot(x, fx, \"r--\", label=\"True (unknown)\")\n",
    "plt.fill(np.concatenate([x, x[::-1]]),\n",
    "         np.concatenate(([fx_i - 1.9600 * noise_level for fx_i in fx], \n",
    "                         [fx_i + 1.9600 * noise_level for fx_i in fx[::-1]])),\n",
    "         alpha=.2, fc=\"r\", ec=\"None\")\n",
    "plt.legend()\n",
    "plt.grid()\n",
    "plt.show()"
   ]
  },
  {
   "cell_type": "markdown",
   "metadata": {},
   "source": [
    "Now we setup the `Optimizer` class. The arguments follow the meaning\n",
    "and naming of the `*_minimize()` functions. An important difference\n",
    "is that you do not pass the objective function to the optimizer."
   ]
  },
  {
   "cell_type": "code",
   "execution_count": 4,
   "metadata": {
    "collapsed": false
   },
   "outputs": [],
   "source": [
    "etr = ExtraTreesRegressor(random_state=2)\n",
    "opt = Optimizer([(-2.0, 2.0)], etr, acq_optimizer=\"sampling\")"
   ]
  },
  {
   "cell_type": "markdown",
   "metadata": {},
   "source": [
    "To obtain a suggestion for the point at which to evaluate the objective\n",
    "you call the `ask()` method of `opt`:"
   ]
  },
  {
   "cell_type": "code",
   "execution_count": 5,
   "metadata": {
    "collapsed": false
   },
   "outputs": [
    {
     "name": "stdout",
     "output_type": "stream",
     "text": [
      "[-1.9996724495453293]\n"
     ]
    }
   ],
   "source": [
    "next_x = opt.ask()\n",
    "print(next_x)"
   ]
  },
  {
   "cell_type": "markdown",
   "metadata": {},
   "source": [
    "In a real world use case you would probably go away and use this parameter in your\n",
    "experiment and come back a while later with the result. In this example we can\n",
    "simply evaluate the objective function and report the value back to the\n",
    "optimizer:"
   ]
  },
  {
   "cell_type": "code",
   "execution_count": 6,
   "metadata": {
    "collapsed": false
   },
   "outputs": [],
   "source": [
    "f_val = objective(next_x)\n",
    "opt.tell(next_x, f_val)"
   ]
  },
  {
   "cell_type": "markdown",
   "metadata": {},
   "source": [
    "Like `*_minimize()` the first few points are random suggestions as there is no data\n",
    "yet with which to fit a surrogate model."
   ]
  },
  {
   "cell_type": "code",
   "execution_count": 7,
   "metadata": {
    "collapsed": true
   },
   "outputs": [],
   "source": [
    "for i in range(9):\n",
    "    next_x = opt.ask()\n",
    "    f_val = objective(next_x)\n",
    "    opt.tell(next_x, f_val)"
   ]
  },
  {
   "cell_type": "markdown",
   "metadata": {},
   "source": [
    "We can now plot the random suggestions and the first model that has been fit:"
   ]
  },
  {
   "cell_type": "code",
   "execution_count": 9,
   "metadata": {
    "collapsed": false
   },
   "outputs": [
    {
     "data": {
      "image/png": "[encoded data removed]",
      "text/plain": [
       "<matplotlib.figure.Figure at 0x10a1c9588>"
      ]
     },
     "metadata": {},
     "output_type": "display_data"
    }
   ],
   "source": [
    "model = opt.models[0]\n",
    "\n",
    "x_gp = opt.space.transform(x.tolist())\n",
    "\n",
    "# Plot true function.\n",
    "plt.plot(x, fx, \"r--\", label=\"True (unknown)\")\n",
    "plt.fill(np.concatenate([x, x[::-1]]),\n",
    "         np.concatenate([fx - 1.9600 * noise_level, \n",
    "                         fx[::-1] + 1.9600 * noise_level]),\n",
    "         alpha=.2, fc=\"r\", ec=\"None\")\n",
    "\n",
    "# Plot GP(x) + contours\n",
    "y_pred, sigma = model.predict(x_gp, return_std=True)\n",
    "plt.plot(x, y_pred, \"g--\", label=r\"$\\mu_{GP}(x)$\")\n",
    "plt.fill(np.concatenate([x, x[::-1]]),\n",
    "         np.concatenate([y_pred - 1.9600 * sigma, \n",
    "                         (y_pred + 1.9600 * sigma)[::-1]]),\n",
    "         alpha=.2, fc=\"g\", ec=\"None\")\n",
    "\n",
    "# Plot sampled points\n",
    "plt.plot(opt.Xi, opt.yi,\n",
    "         \"r.\", markersize=8, label=\"Observations\")\n",
    "\n",
    "# Adjust plot layout\n",
    "plt.grid()"
   ]
  },
  {
   "cell_type": "code",
   "execution_count": null,
   "metadata": {
    "collapsed": true
   },
   "outputs": [],
   "source": []
  }
 ],
 "metadata": {
  "kernelspec": {
   "display_name": "Python 3",
   "language": "python",
   "name": "python3"
  },
  "language_info": {
   "codemirror_mode": {
    "name": "ipython",
    "version": 3
   },
   "file_extension": ".py",
   "mimetype": "text/x-python",
   "name": "python",
   "nbconvert_exporter": "python",
   "pygments_lexer": "ipython3",
   "version": "3.5.2"
  }
 },
 "nbformat": 4,
 "nbformat_minor": 0
}
